{
 "cells": [
  {
   "cell_type": "code",
   "execution_count": null,
   "id": "4abfff1a",
   "metadata": {},
   "outputs": [],
   "source": [
    "import pandas as pd\n",
    "import seaborn as sns\n",
    "import numpy as np\n",
    "from numpy.linalg import solve\n",
    "from scipy.optimize import fsolve\n",
    "from scipy.integrate import odeint,quad\n",
    "import matplotlib.pyplot as plt\n",
    "import numpy as np\n",
    "import pandas as pd\n",
    "import statsmodels.api as sta\n",
    "from sklearn.linear_model import LogisticRegression\n",
    "from sklearn.model_selection import train_test_split\n",
    "from sklearn.metrics import confusion_matrix, accuracy_score\n",
    "from sklearn.preprocessing import LabelBinarizer\n",
    "from sklearn.linear_model import LinearRegression"
   ]
  },
  {
   "cell_type": "code",
   "execution_count": 1,
   "id": "03e200fc",
   "metadata": {},
   "outputs": [
    {
     "data": {
      "text/plain": [
       "'/home/isaac/Desktop/work'"
      ]
     },
     "execution_count": 1,
     "metadata": {},
     "output_type": "execute_result"
    }
   ],
   "source": [
    "pwd"
   ]
  },
  {
   "cell_type": "code",
   "execution_count": null,
   "id": "13b56f48",
   "metadata": {},
   "outputs": [],
   "source": [
    "# Create linear regression object\n",
    "Single_lr1= LinearRegression()\n",
    "Single_lr2= LinearRegression()\n",
    "X=df.LogHj.values.reshape(-1, 1) # independent variable\n",
    "Y1=df.RalstonOdeSys.values.flatten() # dependent variable\n",
    "Y2=df.EulerOdeSys.values.flatten() # dependent variable\n",
    "Single_lr1.fit(X, Y1)\n",
    "Single_lr2.fit(X, Y2)\n",
    "# get the value of alpha and beta\n",
    "alpha1 = Single_lr1.coef_\n",
    "beta1 = Single_lr1.intercept_\n",
    "alpha2 = Single_lr2.coef_\n",
    "beta2 = Single_lr2.intercept_\n",
    "# print the value of alpha and beta\n",
    "print(\"The regression coeficient \")\n",
    "print('alpha1 = ', alpha1[0])\n",
    "print('beta1 = ', beta1)\n",
    "print('alpha2 = ', alpha2[0])\n",
    "print('beta2 = ', beta2)"
   ]
  }
 ],
 "metadata": {
  "kernelspec": {
   "display_name": "Python 3",
   "language": "python",
   "name": "python3"
  },
  "language_info": {
   "codemirror_mode": {
    "name": "ipython",
    "version": 3
   },
   "file_extension": ".py",
   "mimetype": "text/x-python",
   "name": "python",
   "nbconvert_exporter": "python",
   "pygments_lexer": "ipython3",
   "version": "3.9.2"
  }
 },
 "nbformat": 4,
 "nbformat_minor": 5
}
